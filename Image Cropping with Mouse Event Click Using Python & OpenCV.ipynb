{
 "cells": [
  {
   "cell_type": "code",
   "execution_count": 1,
   "metadata": {},
   "outputs": [],
   "source": [
    "import numpy as np\n",
    "import cv2"
   ]
  },
  {
   "cell_type": "code",
   "execution_count": 2,
   "metadata": {},
   "outputs": [
    {
     "name": "stdout",
     "output_type": "stream",
     "text": [
      "[(61, 38), (166, 179)]\n"
     ]
    }
   ],
   "source": [
    "ref_point =[]\n",
    "crop=False\n",
    "def shape_selection(event,x,y,flags,param):\n",
    "    global ref_point,crop\n",
    "    \n",
    "    if event ==cv2.EVENT_LBUTTONDOWN:\n",
    "        ref_point = [(x,y)]\n",
    "    elif event ==cv2.EVENT_LBUTTONUP:\n",
    "        ref_point.append((x,y))\n",
    "        print(ref_point)\n",
    "        cv2.rectangle(image,ref_point[0],ref_point[1],(150,18,115),2)\n",
    "        cv2.imshow('image',image)\n",
    "        \n",
    "    \n",
    "\n",
    "image= cv2.imread('lena.jpg')\n",
    "clone = image.copy()\n",
    "cv2.namedWindow('image')\n",
    "cv2.setMouseCallback('image', shape_selection)\n",
    "\n",
    "while True:\n",
    "    \n",
    "    cv2.imshow('image',image)\n",
    "    k=cv2.waitKey(0)\n",
    "    if k==ord('r'):\n",
    "        image = clone.copy()\n",
    "        \n",
    "    if k==ord('c'):\n",
    "        break\n",
    "\n",
    "\n",
    "if len(ref_point)==2:\n",
    "    crop_img =clone[ref_point[0][1]:ref_point[1][1],ref_point[0][0]:ref_point[1][0]]\n",
    "    cv2.imshow('Cropped_image',crop_img)\n",
    "    cv2.imwrite('Output.jpg',crop_img)\n",
    "    cv2.waitKey(0)\n",
    "\n",
    "\n",
    "cv2.destroyAllWindows()"
   ]
  },
  {
   "cell_type": "code",
   "execution_count": null,
   "metadata": {},
   "outputs": [],
   "source": []
  }
 ],
 "metadata": {
  "kernelspec": {
   "display_name": "Python 3",
   "language": "python",
   "name": "python3"
  },
  "language_info": {
   "codemirror_mode": {
    "name": "ipython",
    "version": 3
   },
   "file_extension": ".py",
   "mimetype": "text/x-python",
   "name": "python",
   "nbconvert_exporter": "python",
   "pygments_lexer": "ipython3",
   "version": "3.7.3"
  }
 },
 "nbformat": 4,
 "nbformat_minor": 2
}
